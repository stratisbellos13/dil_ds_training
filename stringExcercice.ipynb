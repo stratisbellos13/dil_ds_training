{
 "cells": [
  {
   "cell_type": "code",
   "execution_count": 90,
   "metadata": {
    "collapsed": true
   },
   "outputs": [],
   "source": [
    "def donuts(count):\n",
    "    res=''\n",
    "    if(count<10):\n",
    "         res=\"Number of donuts: \"+str(count)\n",
    "    else:\n",
    "         res=\"Number of donuts: many\"\n",
    "    return res\n",
    "    "
   ]
  },
  {
   "cell_type": "code",
   "execution_count": 91,
   "metadata": {
    "collapsed": false
   },
   "outputs": [],
   "source": [
    "def both_ends(s):\n",
    "    if(len(s)<=2):\n",
    "        return ''\n",
    "    else:\n",
    "        return(s[0]+s[1]+s[len(s)-2]+s[len(s)-1])\n",
    "    return"
   ]
  },
  {
   "cell_type": "code",
   "execution_count": 92,
   "metadata": {
    "collapsed": false
   },
   "outputs": [],
   "source": [
    "def fix_start(s):\n",
    "    l=list(s)\n",
    "    if(len(l)>1):\n",
    "        for i in range(1,len(l)):\n",
    "            if(l[i]==l[0]):\n",
    "                l[i]='*'\n",
    "    return \"\".join(l)"
   ]
  },
  {
   "cell_type": "code",
   "execution_count": 93,
   "metadata": {
    "collapsed": false
   },
   "outputs": [],
   "source": [
    "def mix_up(a, b):\n",
    "    l1=list(a)\n",
    "    l2=list(b)\n",
    "    ctr=0;\n",
    "    res=[];\n",
    "    for i in a:\n",
    "        if(ctr<2):\n",
    "            res.append(l2[ctr])\n",
    "        else:\n",
    "            res.append(l1[ctr])\n",
    "        ctr+=1\n",
    "    res.append(\" \")\n",
    "    ctr=0\n",
    "    for i in b:\n",
    "        if(ctr<2):\n",
    "            res.append(l1[ctr])\n",
    "        else:\n",
    "            res.append(l2[ctr])\n",
    "        ctr+=1\n",
    "    return \"\".join(res)"
   ]
  },
  {
   "cell_type": "code",
   "execution_count": 94,
   "metadata": {
    "collapsed": false
   },
   "outputs": [],
   "source": [
    "def test(got, expected):\n",
    "    prefix = 'OK' if got == expected else ' X'\n",
    "    # !r prints a Python representation of the strings (complete with quotes)\n",
    "    print (' {} got: {!r} expected: {!r}'.format(prefix, got, expected))"
   ]
  },
  {
   "cell_type": "code",
   "execution_count": 95,
   "metadata": {
    "collapsed": false
   },
   "outputs": [],
   "source": [
    "def main():\n",
    "    print ('donuts')\n",
    "    # Each line calls donuts, compares its result to the expected for that call.\n",
    "    test(donuts(4), 'Number of donuts: 4')\n",
    "    test(donuts(9), 'Number of donuts: 9')\n",
    "    test(donuts(10), 'Number of donuts: many')\n",
    "    test(donuts(99), 'Number of donuts: many')\n",
    "\n",
    "    print ()\n",
    "    print ('both_ends')\n",
    "    test(both_ends('spring'), 'spng')\n",
    "    test(both_ends('Hello'), 'Helo')\n",
    "    test(both_ends('a'), '')\n",
    "    test(both_ends('xyz'), 'xyyz')\n",
    "\n",
    "  \n",
    "    print ()\n",
    "    print ('fix_start')\n",
    "    test(fix_start('babble'), 'ba**le')\n",
    "    test(fix_start('aardvark'), 'a*rdv*rk')\n",
    "    test(fix_start('google'), 'goo*le')\n",
    "    test(fix_start('donut'), 'donut')\n",
    "\n",
    "    print ()\n",
    "    print ('mix_up')\n",
    "    test(mix_up('mix', 'pod'), 'pox mid')\n",
    "    test(mix_up('dog', 'dinner'), 'dig donner')\n",
    "    test(mix_up('gnash', 'sport'), 'spash gnort')\n",
    "    test(mix_up('pezzy', 'firm'), 'fizzy perm')\n"
   ]
  },
  {
   "cell_type": "code",
   "execution_count": 96,
   "metadata": {
    "collapsed": false
   },
   "outputs": [
    {
     "name": "stdout",
     "output_type": "stream",
     "text": [
      "donuts\n",
      " OK got: 'Number of donuts: 4' expected: 'Number of donuts: 4'\n",
      " OK got: 'Number of donuts: 9' expected: 'Number of donuts: 9'\n",
      " OK got: 'Number of donuts: many' expected: 'Number of donuts: many'\n",
      " OK got: 'Number of donuts: many' expected: 'Number of donuts: many'\n",
      "\n",
      "both_ends\n",
      " OK got: 'spng' expected: 'spng'\n",
      " OK got: 'Helo' expected: 'Helo'\n",
      " OK got: '' expected: ''\n",
      " OK got: 'xyyz' expected: 'xyyz'\n",
      "\n",
      "fix_start\n",
      " OK got: 'ba**le' expected: 'ba**le'\n",
      " OK got: 'a*rdv*rk' expected: 'a*rdv*rk'\n",
      " OK got: 'goo*le' expected: 'goo*le'\n",
      " OK got: 'donut' expected: 'donut'\n",
      "\n",
      "mix_up\n",
      " OK got: 'pox mid' expected: 'pox mid'\n",
      " OK got: 'dig donner' expected: 'dig donner'\n",
      " OK got: 'spash gnort' expected: 'spash gnort'\n",
      " OK got: 'fizzy perm' expected: 'fizzy perm'\n"
     ]
    }
   ],
   "source": [
    "main()"
   ]
  },
  {
   "cell_type": "code",
   "execution_count": 105,
   "metadata": {
    "collapsed": false
   },
   "outputs": [],
   "source": [
    "def verbing(s):\n",
    "    res=list(s)\n",
    "    if(len(s)>2):\n",
    "        if((res[len(s)-1]=='g')and(res[len(s)-2]=='n')and(res[len(s)-3]=='i')):\n",
    "            res[len(s)-1]='y'\n",
    "            res[len(s)-2]='l'\n",
    "        else:\n",
    "            res.append('i')\n",
    "            res.append('n')\n",
    "            res.append('g')\n",
    "    return \"\".join(res)"
   ]
  },
  {
   "cell_type": "code",
   "execution_count": 116,
   "metadata": {
    "collapsed": false
   },
   "outputs": [],
   "source": [
    "def not_bad(s):\n",
    "    s1=s.find('not')\n",
    "    s2=s.find('bad')\n",
    "    if((s1>0)and(s2>0)and(s1<s2)):\n",
    "        return s[:s1]+\"good\"+s[s2+3:]\n",
    "    else:\n",
    "        return s\n",
    "     \n",
    "\n"
   ]
  },
  {
   "cell_type": "code",
   "execution_count": 130,
   "metadata": {
    "collapsed": false
   },
   "outputs": [],
   "source": [
    "import math\n",
    "def front_back(a, b):\n",
    "    return a[:math.ceil(len(a)/2)]+b[:math.ceil(len(b)/2)]+a[int((len(a)/2)):]+b[int((len(b)/2)):]"
   ]
  },
  {
   "cell_type": "code",
   "execution_count": 133,
   "metadata": {
    "collapsed": false
   },
   "outputs": [
    {
     "name": "stdout",
     "output_type": "stream",
     "text": [
      "abcxfcdegh\n"
     ]
    }
   ],
   "source": [
    "def main():\n",
    "    print ('verbing')\n",
    "    test(verbing('hail'), 'hailing')\n",
    "    test(verbing('swiming'), 'swimingly')\n",
    "    test(verbing('do'), 'do')\n",
    "    \n",
    "    print()\n",
    "    print ('not_bad')\n",
    "    test(not_bad('This movie is not so bad'), 'This movie is good')\n",
    "    test(not_bad('This dinner is not that bad!'), 'This dinner is good!')\n",
    "    test(not_bad('This tea is not hot'), 'This tea is not hot')\n",
    "    test(not_bad(\"It's bad yet not\"), \"It's bad yet not\")\n",
    "\n",
    "    print ()\n",
    "    print ('front_back')\n",
    "    test(front_back('abcd', 'xy'), 'abxcdy')\n",
    "    test(front_back('abcde', 'xyz'), 'abcxydez')\n",
    "    test(front_back('Kitten', 'Donut'), 'KitDontenut')\n"
   ]
  },
  {
   "cell_type": "code",
   "execution_count": 134,
   "metadata": {
    "collapsed": false
   },
   "outputs": [
    {
     "name": "stdout",
     "output_type": "stream",
     "text": [
      "donuts\n",
      " OK got: 'Number of donuts: 4' expected: 'Number of donuts: 4'\n",
      " OK got: 'Number of donuts: 9' expected: 'Number of donuts: 9'\n",
      " OK got: 'Number of donuts: many' expected: 'Number of donuts: many'\n",
      " OK got: 'Number of donuts: many' expected: 'Number of donuts: many'\n",
      "\n",
      "both_ends\n",
      " OK got: 'spng' expected: 'spng'\n",
      " OK got: 'Helo' expected: 'Helo'\n",
      " OK got: '' expected: ''\n",
      " OK got: 'xyyz' expected: 'xyyz'\n",
      "\n",
      "fix_start\n",
      " OK got: 'ba**le' expected: 'ba**le'\n",
      " OK got: 'a*rdv*rk' expected: 'a*rdv*rk'\n",
      " OK got: 'goo*le' expected: 'goo*le'\n",
      " OK got: 'donut' expected: 'donut'\n",
      "\n",
      "mix_up\n",
      " OK got: 'pox mid' expected: 'pox mid'\n",
      " OK got: 'dig donner' expected: 'dig donner'\n",
      " OK got: 'spash gnort' expected: 'spash gnort'\n",
      " OK got: 'fizzy perm' expected: 'fizzy perm'\n"
     ]
    }
   ],
   "source": [
    "main()"
   ]
  },
  {
   "cell_type": "code",
   "execution_count": null,
   "metadata": {
    "collapsed": true
   },
   "outputs": [],
   "source": []
  }
 ],
 "metadata": {
  "kernelspec": {
   "display_name": "Python 3",
   "language": "python",
   "name": "python3"
  },
  "language_info": {
   "codemirror_mode": {
    "name": "ipython",
    "version": 3
   },
   "file_extension": ".py",
   "mimetype": "text/x-python",
   "name": "python",
   "nbconvert_exporter": "python",
   "pygments_lexer": "ipython3",
   "version": "3.6.0"
  }
 },
 "nbformat": 4,
 "nbformat_minor": 2
}
