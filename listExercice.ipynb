{
 "cells": [
  {
   "cell_type": "code",
   "execution_count": 93,
   "metadata": {
    "collapsed": false
   },
   "outputs": [],
   "source": [
    "\n",
    "#excersise 1, String length >=2 && First letter == Last letter\n",
    "def match_ends(words):\n",
    "    results=[];\n",
    "    for i in words :\n",
    "        if((len(i)>=2)and(i[0]==i[len(i)-1])):\n",
    "            results.append(i);\n",
    "    return len(results) ;"
   ]
  },
  {
   "cell_type": "code",
   "execution_count": 99,
   "metadata": {
    "collapsed": false
   },
   "outputs": [],
   "source": [
    "#excersise 2, Sort the string and have the words starting with 'X' at the beggining \n",
    "def front_x(words):\n",
    "    words.sort()\n",
    "    x=0\n",
    "    i=len(words)-1\n",
    "    #Sorts the list and while iterrating reversly the sorted list, it inserts the words starting with X in the beggining\n",
    "    while(i!=x):\n",
    "        if(words[i][0]=='x'):\n",
    "            words.insert(0,words[i])\n",
    "            del words[i+1]\n",
    "            x+=1\n",
    "            i+=1\n",
    "        i-=1;\n",
    "    return words\n"
   ]
  },
  {
   "cell_type": "code",
   "execution_count": 100,
   "metadata": {
    "collapsed": false,
    "scrolled": true
   },
   "outputs": [],
   "source": [
    "#excersise 3 Sort the tuples based on the last field\n",
    "def getKey(item):\n",
    "    return item[len(item)-1]\n",
    "def sort_last(tuples):\n",
    "    tuples.sort(key=getKey)\n",
    "    return tuples"
   ]
  },
  {
   "cell_type": "code",
   "execution_count": 96,
   "metadata": {
    "collapsed": false
   },
   "outputs": [],
   "source": [
    "#Test function\n",
    "def test(got, expected):\n",
    "    prefix = 'OK' if got == expected else ' X'\n",
    "    # !r prints a Python representation of the strings (complete with quotes)\n",
    "    print ('{} got: {!r} expected: {!r}'.format(prefix, got, expected))"
   ]
  },
  {
   "cell_type": "code",
   "execution_count": 101,
   "metadata": {
    "collapsed": true
   },
   "outputs": [],
   "source": [
    "def main1():\n",
    "    print ('match_ends')\n",
    "    test(match_ends(['aba', 'xyz', 'aa', 'x', 'bbb']), 3)\n",
    "    test(match_ends(['', 'x', 'xy', 'xyx', 'xx']), 2)\n",
    "    test(match_ends(['aaa', 'be', 'abc', 'hello']), 1)\n",
    "\n",
    "    print ()\n",
    "    print ('front_x')\n",
    "    test(front_x(['bbb', 'ccc', 'axx', 'xzz', 'xaa']),\n",
    "        ['xaa', 'xzz', 'axx', 'bbb', 'ccc'])\n",
    "    test(front_x(['ccc', 'bbb', 'aaa', 'xcc', 'xaa']),\n",
    "        ['xaa', 'xcc', 'aaa', 'bbb', 'ccc'])\n",
    "    test(front_x(['mix', 'xyz', 'apple', 'xanadu', 'aardvark']),\n",
    "        ['xanadu', 'xyz', 'aardvark', 'apple', 'mix'])\n",
    "    \n",
    "    print ()\n",
    "    print ('sort_last')\n",
    "    test(sort_last([(1, 3), (3, 2), (2, 1)]),\n",
    "         [(2, 1), (3, 2), (1, 3)])\n",
    "    test(sort_last([(2, 3), (1, 2), (3, 1)]),\n",
    "         [(3, 1), (1, 2), (2, 3)])\n",
    "    test(sort_last([(1, 7), (1, 3), (3, 4, 5), (2, 2)]),\n",
    "         [(2, 2), (1, 3), (3, 4, 5), (1, 7)])"
   ]
  },
  {
   "cell_type": "code",
   "execution_count": 98,
   "metadata": {
    "collapsed": false
   },
   "outputs": [
    {
     "name": "stdout",
     "output_type": "stream",
     "text": [
      "match_ends\n",
      "OK got: 3 expected: 3\n",
      "OK got: 2 expected: 2\n",
      "OK got: 1 expected: 1\n",
      "\n",
      "front_x\n",
      "OK got: ['xaa', 'xzz', 'axx', 'bbb', 'ccc'] expected: ['xaa', 'xzz', 'axx', 'bbb', 'ccc']\n",
      "OK got: ['xaa', 'xcc', 'aaa', 'bbb', 'ccc'] expected: ['xaa', 'xcc', 'aaa', 'bbb', 'ccc']\n",
      "OK got: ['xanadu', 'xyz', 'aardvark', 'apple', 'mix'] expected: ['xanadu', 'xyz', 'aardvark', 'apple', 'mix']\n",
      "\n",
      "sort_last\n",
      "OK got: [(2, 1), (3, 2), (1, 3)] expected: [(2, 1), (3, 2), (1, 3)]\n",
      "OK got: [(3, 1), (1, 2), (2, 3)] expected: [(3, 1), (1, 2), (2, 3)]\n",
      "OK got: [(2, 2), (1, 3), (3, 4, 5), (1, 7)] expected: [(2, 2), (1, 3), (3, 4, 5), (1, 7)]\n"
     ]
    }
   ],
   "source": [
    "main1()"
   ]
  },
  {
   "cell_type": "code",
   "execution_count": 156,
   "metadata": {
    "collapsed": false
   },
   "outputs": [],
   "source": [
    "def remove_adjacent(nums):\n",
    "    i=0\n",
    "    while(i!=len(nums)):\n",
    "        if(i==len(nums)-1): \n",
    "            break;\n",
    "        if(nums[i]==nums[i+1]):\n",
    "            del(nums[i])\n",
    "            continue;\n",
    "        i+=1;\n",
    "    return nums"
   ]
  },
  {
   "cell_type": "code",
   "execution_count": 223,
   "metadata": {
    "collapsed": false
   },
   "outputs": [],
   "source": [
    "def linear_merge(list1, list2):\n",
    "    it1=0;\n",
    "    it2=0\n",
    "    result=[];\n",
    "    while(True):\n",
    "        if((it1<=(len(list1)-1)) and (it2<=(len(list2)-1))):\n",
    "            if(list1[it1]<=list2[it2]):\n",
    "                result.append(list1[it1])\n",
    "                it1+=1\n",
    "            elif (list1[it1]>list2[it2]):\n",
    "                result.append(list2[it2])\n",
    "                it2+=1\n",
    "            continue;\n",
    "        elif(it2<=(len(list2)-1)):\n",
    "            result.append(list2[it2])\n",
    "            it2+=1\n",
    "        elif(it1<=(len(list1)-1)):\n",
    "            result.append(list1[it1])\n",
    "            it1+=1\n",
    "        else:\n",
    "            return result\n",
    "            \n",
    "    return result"
   ]
  },
  {
   "cell_type": "code",
   "execution_count": 224,
   "metadata": {
    "collapsed": false
   },
   "outputs": [],
   "source": [
    "def main2():\n",
    "    print ('remove_adjacent')\n",
    "    test(remove_adjacent([1, 2, 2, 3]), [1, 2, 3])\n",
    "    test(remove_adjacent([2, 2, 3, 3, 3]), [2, 3])\n",
    "    test(remove_adjacent([]), [])\n",
    "    \n",
    "    print ('linear_merge')\n",
    "    test(linear_merge(['aa', 'xx', 'zz'], ['bb', 'cc']),['aa', 'bb', 'cc', 'xx', 'zz'])\n",
    "    test(linear_merge(['aa', 'xx'], ['bb', 'cc', 'zz']),['aa', 'bb', 'cc', 'xx', 'zz'])\n",
    "    test(linear_merge(['aa', 'aa'], ['aa', 'bb', 'bb']),['aa', 'aa', 'aa', 'bb', 'bb'])"
   ]
  },
  {
   "cell_type": "code",
   "execution_count": 225,
   "metadata": {
    "collapsed": false
   },
   "outputs": [
    {
     "name": "stdout",
     "output_type": "stream",
     "text": [
      "remove_adjacent\n",
      "OK got: [1, 2, 3] expected: [1, 2, 3]\n",
      "OK got: [2, 3] expected: [2, 3]\n",
      "OK got: [] expected: []\n",
      "linear_merge\n",
      "OK got: ['aa', 'bb', 'cc', 'xx', 'zz'] expected: ['aa', 'bb', 'cc', 'xx', 'zz']\n",
      "OK got: ['aa', 'bb', 'cc', 'xx', 'zz'] expected: ['aa', 'bb', 'cc', 'xx', 'zz']\n",
      "OK got: ['aa', 'aa', 'aa', 'bb', 'bb'] expected: ['aa', 'aa', 'aa', 'bb', 'bb']\n"
     ]
    }
   ],
   "source": [
    "main2()"
   ]
  },
  {
   "cell_type": "code",
   "execution_count": null,
   "metadata": {
    "collapsed": true
   },
   "outputs": [],
   "source": []
  },
  {
   "cell_type": "code",
   "execution_count": null,
   "metadata": {
    "collapsed": true
   },
   "outputs": [],
   "source": []
  }
 ],
 "metadata": {
  "kernelspec": {
   "display_name": "Python 3",
   "language": "python",
   "name": "python3"
  },
  "language_info": {
   "codemirror_mode": {
    "name": "ipython",
    "version": 3
   },
   "file_extension": ".py",
   "mimetype": "text/x-python",
   "name": "python",
   "nbconvert_exporter": "python",
   "pygments_lexer": "ipython3",
   "version": "3.6.0"
  }
 },
 "nbformat": 4,
 "nbformat_minor": 2
}
